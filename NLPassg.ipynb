{
 "cells": [
  {
   "cell_type": "code",
   "execution_count": 1,
   "metadata": {
    "_cell_guid": "5a7c334d-3afa-4508-874f-3366da0a9c2c",
    "_uuid": "1139f2793448fc6a647e9a0c8e8679963d9f206d"
   },
   "outputs": [
    {
     "data": {
      "text/html": [
       "        <script type=\"text/javascript\">\n",
       "        window.PlotlyConfig = {MathJaxConfig: 'local'};\n",
       "        if (window.MathJax) {MathJax.Hub.Config({SVG: {font: \"STIX-Web\"}});}\n",
       "        if (typeof require !== 'undefined') {\n",
       "        require.undef(\"plotly\");\n",
       "        requirejs.config({\n",
       "            paths: {\n",
       "                'plotly': ['https://cdn.plot.ly/plotly-latest.min']\n",
       "            }\n",
       "        });\n",
       "        require(['plotly'], function(Plotly) {\n",
       "            window._Plotly = Plotly;\n",
       "        });\n",
       "        }\n",
       "        </script>\n",
       "        "
      ]
     },
     "metadata": {},
     "output_type": "display_data"
    }
   ],
   "source": [
    "import os\n",
    "import numpy as np\n",
    "from plotly.offline import download_plotlyjs, init_notebook_mode, plot, iplot\n",
    "import plotly as py\n",
    "import plotly.graph_objs as go\n",
    "\n",
    "init_notebook_mode(connected=True) #do not miss this line\n",
    "\n",
    "from gensim import corpora, models, similarities\n",
    "\n",
    "import warnings\n",
    "warnings.filterwarnings(\"ignore\")"
   ]
  },
  {
   "cell_type": "code",
   "execution_count": 2,
   "metadata": {
    "_cell_guid": "7cdec987-42d7-495d-8aed-d904f430707a",
    "_uuid": "2ab794b9bdd2400c1eb349493361f325fef51eee"
   },
   "outputs": [],
   "source": [
    "datafile = '/Users/macbook/Desktop/data_elonmusk.csv'"
   ]
  },
  {
   "cell_type": "code",
   "execution_count": 3,
   "metadata": {
    "_cell_guid": "52abb44e-881a-4fa5-aaad-cca178c148b4",
    "_uuid": "3247c5f08df034b7afe4be36e52a99baa625a5ba"
   },
   "outputs": [
    {
     "data": {
      "text/html": [
       "<div>\n",
       "<style scoped>\n",
       "    .dataframe tbody tr th:only-of-type {\n",
       "        vertical-align: middle;\n",
       "    }\n",
       "\n",
       "    .dataframe tbody tr th {\n",
       "        vertical-align: top;\n",
       "    }\n",
       "\n",
       "    .dataframe thead th {\n",
       "        text-align: right;\n",
       "    }\n",
       "</style>\n",
       "<table border=\"1\" class=\"dataframe\">\n",
       "  <thead>\n",
       "    <tr style=\"text-align: right;\">\n",
       "      <th></th>\n",
       "      <th>Tweet</th>\n",
       "      <th>Time</th>\n",
       "      <th>Retweet from</th>\n",
       "      <th>User</th>\n",
       "    </tr>\n",
       "  </thead>\n",
       "  <tbody>\n",
       "    <tr>\n",
       "      <th>0</th>\n",
       "      <td>@MeltingIce Assuming max acceleration of 2 to ...</td>\n",
       "      <td>2017-09-29 17:39:19</td>\n",
       "      <td>NaN</td>\n",
       "      <td>elonmusk</td>\n",
       "    </tr>\n",
       "    <tr>\n",
       "      <th>1</th>\n",
       "      <td>RT @SpaceX: BFR is capable of transporting sat...</td>\n",
       "      <td>2017-09-29 10:44:54</td>\n",
       "      <td>SpaceX</td>\n",
       "      <td>elonmusk</td>\n",
       "    </tr>\n",
       "    <tr>\n",
       "      <th>2</th>\n",
       "      <td>@bigajm Yup :)</td>\n",
       "      <td>2017-09-29 10:39:57</td>\n",
       "      <td>NaN</td>\n",
       "      <td>elonmusk</td>\n",
       "    </tr>\n",
       "    <tr>\n",
       "      <th>3</th>\n",
       "      <td>Part 2 https://t.co/8Fvu57muhM</td>\n",
       "      <td>2017-09-29 09:56:12</td>\n",
       "      <td>NaN</td>\n",
       "      <td>elonmusk</td>\n",
       "    </tr>\n",
       "    <tr>\n",
       "      <th>4</th>\n",
       "      <td>Fly to most places on Earth in under 30 mins a...</td>\n",
       "      <td>2017-09-29 09:19:21</td>\n",
       "      <td>NaN</td>\n",
       "      <td>elonmusk</td>\n",
       "    </tr>\n",
       "    <tr>\n",
       "      <th>5</th>\n",
       "      <td>RT @SpaceX: Supporting the creation of a perma...</td>\n",
       "      <td>2017-09-29 08:57:29</td>\n",
       "      <td>SpaceX</td>\n",
       "      <td>elonmusk</td>\n",
       "    </tr>\n",
       "    <tr>\n",
       "      <th>6</th>\n",
       "      <td>BFR will take you anywhere on Earth in less th...</td>\n",
       "      <td>2017-09-29 08:53:00</td>\n",
       "      <td>NaN</td>\n",
       "      <td>elonmusk</td>\n",
       "    </tr>\n",
       "    <tr>\n",
       "      <th>7</th>\n",
       "      <td>Mars City\\nOpposite of Earth. Dawn and dusk sk...</td>\n",
       "      <td>2017-09-29 06:03:32</td>\n",
       "      <td>NaN</td>\n",
       "      <td>elonmusk</td>\n",
       "    </tr>\n",
       "    <tr>\n",
       "      <th>8</th>\n",
       "      <td>Moon Base Alpha https://t.co/voY8qEW9kl</td>\n",
       "      <td>2017-09-29 05:44:55</td>\n",
       "      <td>NaN</td>\n",
       "      <td>elonmusk</td>\n",
       "    </tr>\n",
       "    <tr>\n",
       "      <th>9</th>\n",
       "      <td>Will be announcing something really special at...</td>\n",
       "      <td>2017-09-29 02:36:17</td>\n",
       "      <td>NaN</td>\n",
       "      <td>elonmusk</td>\n",
       "    </tr>\n",
       "  </tbody>\n",
       "</table>\n",
       "</div>"
      ],
      "text/plain": [
       "                                               Tweet                Time  \\\n",
       "0  @MeltingIce Assuming max acceleration of 2 to ... 2017-09-29 17:39:19   \n",
       "1  RT @SpaceX: BFR is capable of transporting sat... 2017-09-29 10:44:54   \n",
       "2                                     @bigajm Yup :) 2017-09-29 10:39:57   \n",
       "3                     Part 2 https://t.co/8Fvu57muhM 2017-09-29 09:56:12   \n",
       "4  Fly to most places on Earth in under 30 mins a... 2017-09-29 09:19:21   \n",
       "5  RT @SpaceX: Supporting the creation of a perma... 2017-09-29 08:57:29   \n",
       "6  BFR will take you anywhere on Earth in less th... 2017-09-29 08:53:00   \n",
       "7  Mars City\\nOpposite of Earth. Dawn and dusk sk... 2017-09-29 06:03:32   \n",
       "8            Moon Base Alpha https://t.co/voY8qEW9kl 2017-09-29 05:44:55   \n",
       "9  Will be announcing something really special at... 2017-09-29 02:36:17   \n",
       "\n",
       "  Retweet from      User  \n",
       "0          NaN  elonmusk  \n",
       "1       SpaceX  elonmusk  \n",
       "2          NaN  elonmusk  \n",
       "3          NaN  elonmusk  \n",
       "4          NaN  elonmusk  \n",
       "5       SpaceX  elonmusk  \n",
       "6          NaN  elonmusk  \n",
       "7          NaN  elonmusk  \n",
       "8          NaN  elonmusk  \n",
       "9          NaN  elonmusk  "
      ]
     },
     "execution_count": 3,
     "metadata": {},
     "output_type": "execute_result"
    }
   ],
   "source": [
    "import pandas as pd\n",
    "tweets = pd.read_csv(datafile, encoding='latin1')\n",
    "tweets = tweets.assign(Time=pd.to_datetime(tweets.Time)).drop('row ID', axis='columns')\n",
    "\n",
    "tweets.head(10)"
   ]
  },
  {
   "cell_type": "code",
   "execution_count": 4,
   "metadata": {
    "_cell_guid": "fdadead9-8dea-4c34-8bf2-1c4652418f36",
    "_uuid": "a9bbf206e9d8b2b17c15da0df8c67f1365f03dab",
    "scrolled": true
   },
   "outputs": [
    {
     "data": {
      "text/plain": [
       "range(0, 3218)"
      ]
     },
     "execution_count": 4,
     "metadata": {},
     "output_type": "execute_result"
    }
   ],
   "source": [
    "range(len(tweets['Tweet']))"
   ]
  },
  {
   "cell_type": "markdown",
   "metadata": {
    "_cell_guid": "556c0eec-994f-4f72-82af-9da59e590a1b",
    "_uuid": "940eb7b9c8715792165ad73a40400e8c06c7b775"
   },
   "source": []
  },
  {
   "cell_type": "code",
   "execution_count": 5,
   "metadata": {
    "_cell_guid": "b06b4ca0-f1ab-45a1-9550-1492a30c3c74",
    "_uuid": "ffb58f64bee55b852c07d0bc87be430d1258d976"
   },
   "outputs": [],
   "source": [
    "corpus=[]\n",
    "a=[]\n",
    "for i in range(len(tweets['Tweet'])):\n",
    "        a=tweets['Tweet'][i]\n",
    "        corpus.append(a)"
   ]
  },
  {
   "cell_type": "code",
   "execution_count": 17,
   "metadata": {
    "_cell_guid": "e943c950-1007-46ff-a868-412100b6830f",
    "_uuid": "eeb90a8ffa5442ee9e32a456b227df1f61be706f"
   },
   "outputs": [
    {
     "data": {
      "text/plain": [
       "[\"@MeltingIce Assuming max acceleration of 2 to 3 g's, but in a comfortable direction. Will feel like a mild to moder? https://t.co/fpjmEgrHfC\",\n",
       " 'RT @SpaceX: BFR is capable of transporting satellites to orbit, crew and cargo to the @Space_Station and completing missions to the Moon an?',\n",
       " '@bigajm Yup :)',\n",
       " 'Part 2 https://t.co/8Fvu57muhM',\n",
       " 'Fly to most places on Earth in under 30 mins and anywhere in under 60. Cost per seat should be? https://t.co/dGYDdGttYd']"
      ]
     },
     "execution_count": 17,
     "metadata": {},
     "output_type": "execute_result"
    }
   ],
   "source": [
    "corpus[0:5]"
   ]
  },
  {
   "cell_type": "code",
   "execution_count": 6,
   "metadata": {
    "_cell_guid": "d117ab5e-3395-4430-8dad-0750a520c313",
    "_uuid": "e6f1dd9faefafd8045c94fc71a033c201c5443ff"
   },
   "outputs": [
    {
     "name": "stdout",
     "output_type": "stream",
     "text": [
      "Folder \"/var/folders/5r/c9k32sc94rgb48h_n3dmp53c0000gn/T\" will be used to save temporary dictionary and corpus.\n"
     ]
    }
   ],
   "source": [
    "import gensim\n",
    "import logging\n",
    "import tempfile\n",
    "\n",
    "TEMP_FOLDER = tempfile.gettempdir()\n",
    "print('Folder \"{}\" will be used to save temporary dictionary and corpus.'.format(TEMP_FOLDER))\n",
    "\n",
    "from gensim import corpora\n",
    "logging.basicConfig(format='%(asctime)s : %(levelname)s : %(message)s', level=logging.INFO)"
   ]
  },
  {
   "cell_type": "code",
   "execution_count": 8,
   "metadata": {
    "_cell_guid": "068cfe59-dbc2-4481-a20f-6cd321cbc4bb",
    "_uuid": "df0a72a7a17efcf0da96a51753855ec2039cffb8"
   },
   "outputs": [],
   "source": [
    "from nltk.corpus import stopwords\n",
    "from string import punctuation\n",
    "\n",
    "# remove common words and tokenize\n",
    "list1 = ['RT','rt']\n",
    "stoplist = stopwords.words('english') + list(punctuation) + list1\n",
    "\n",
    "texts = [[word for word in str(document).lower().split() if word not in stoplist] for document in corpus]"
   ]
  },
  {
   "cell_type": "code",
   "execution_count": 9,
   "metadata": {
    "_cell_guid": "41eea25d-97f6-478c-97bb-8073cecb3101",
    "_uuid": "c9824ceb1efd0895923b23ff8d058a86a43b9c54"
   },
   "outputs": [
    {
     "name": "stderr",
     "output_type": "stream",
     "text": [
      "2019-04-30 12:59:24,084 : INFO : adding document #0 to Dictionary(0 unique tokens: [])\n",
      "2019-04-30 12:59:24,178 : INFO : built Dictionary(11842 unique tokens: ['2', '3', '@meltingice', 'acceleration', 'assuming']...) from 3218 documents (total 30256 corpus positions)\n",
      "2019-04-30 12:59:24,179 : INFO : saving Dictionary object under /var/folders/5r/c9k32sc94rgb48h_n3dmp53c0000gn/T/elon.dict, separately None\n",
      "2019-04-30 12:59:24,187 : INFO : saved /var/folders/5r/c9k32sc94rgb48h_n3dmp53c0000gn/T/elon.dict\n"
     ]
    }
   ],
   "source": [
    "dictionary = corpora.Dictionary(texts)\n",
    "dictionary.save(os.path.join(TEMP_FOLDER, 'elon.dict'))  # store the dictionary, for future reference\n",
    "#print(dictionary)"
   ]
  },
  {
   "cell_type": "code",
   "execution_count": 10,
   "metadata": {
    "_cell_guid": "b80d4a62-6126-48e5-aba8-8de557c5d00d",
    "_uuid": "040914ec58061f9f66a39df81c8c1ae4cb9dbeb5"
   },
   "outputs": [
    {
     "name": "stderr",
     "output_type": "stream",
     "text": [
      "2019-04-30 12:59:25,677 : INFO : storing corpus in Matrix Market format to /var/folders/5r/c9k32sc94rgb48h_n3dmp53c0000gn/T/elon.mm\n",
      "2019-04-30 12:59:25,679 : INFO : saving sparse matrix to /var/folders/5r/c9k32sc94rgb48h_n3dmp53c0000gn/T/elon.mm\n",
      "2019-04-30 12:59:25,680 : INFO : PROGRESS: saving document #0\n",
      "2019-04-30 12:59:25,725 : INFO : PROGRESS: saving document #1000\n",
      "2019-04-30 12:59:25,761 : INFO : PROGRESS: saving document #2000\n",
      "2019-04-30 12:59:25,801 : INFO : PROGRESS: saving document #3000\n",
      "2019-04-30 12:59:25,812 : INFO : saved 3218x11842 matrix, density=0.079% (29959/38107556)\n",
      "2019-04-30 12:59:25,814 : INFO : saving MmCorpus index to /var/folders/5r/c9k32sc94rgb48h_n3dmp53c0000gn/T/elon.mm.index\n"
     ]
    }
   ],
   "source": [
    "corpus = [dictionary.doc2bow(text) for text in texts]\n",
    "corpora.MmCorpus.serialize(os.path.join(TEMP_FOLDER, 'elon.mm'), corpus)  # store to disk, for later use"
   ]
  },
  {
   "cell_type": "code",
   "execution_count": 11,
   "metadata": {
    "_cell_guid": "c654c601-bf99-4ca3-8fcd-c035dbe8af8f",
    "_uuid": "b446ef66b9fb10675b0b8c0216527a35cddb5fa4"
   },
   "outputs": [],
   "source": [
    "from gensim import corpora, models, similarities"
   ]
  },
  {
   "cell_type": "markdown",
   "metadata": {
    "_cell_guid": "8c2fae3e-3c57-4a1b-b302-7f9bfe2fb5a0",
    "_uuid": "516974a573c993c655cec2ea8ccda4a3e4e3d899"
   },
   "source": [
    "### Creating a transformation"
   ]
  },
  {
   "cell_type": "code",
   "execution_count": 12,
   "metadata": {
    "_cell_guid": "a7966606-dc6a-44a8-8fe5-d1a79929e203",
    "_uuid": "91cd194bf43c84b564c693c6e0ea109d28724abc"
   },
   "outputs": [
    {
     "name": "stderr",
     "output_type": "stream",
     "text": [
      "2019-04-30 12:59:29,096 : INFO : collecting document frequencies\n",
      "2019-04-30 12:59:29,097 : INFO : PROGRESS: processing document #0\n",
      "2019-04-30 12:59:29,118 : INFO : calculating IDF weights for 3218 documents and 11841 features (29959 matrix non-zeros)\n"
     ]
    }
   ],
   "source": [
    "tfidf = models.TfidfModel(corpus) # step 1 -- initialize a model"
   ]
  },
  {
   "cell_type": "code",
   "execution_count": 13,
   "metadata": {
    "_cell_guid": "8d3211bd-a12d-4518-b822-eb92df9a564d",
    "_uuid": "6ccc9986f35d02916c62139410d0cbc6455e3149"
   },
   "outputs": [],
   "source": [
    "corpus_tfidf = tfidf[corpus]  # step 2 -- use the model to transform vectors"
   ]
  },
  {
   "cell_type": "markdown",
   "metadata": {
    "_cell_guid": "6096b0ef-bb2b-40d1-aac4-f538dae0f1e3",
    "_uuid": "39f769bd5e8fea11c952a7c33bf32b329618f837"
   },
   "source": [
    "### LDA:\n",
    "https://en.wikipedia.org/wiki/Latent_Dirichlet_allocation"
   ]
  },
  {
   "cell_type": "code",
   "execution_count": 14,
   "metadata": {
    "_cell_guid": "cc49ccb3-bd68-4359-8fec-7f6cbff2a182",
    "_uuid": "5771a4cc1b5f20878d52409e11f3fecaa59a9ac6"
   },
   "outputs": [],
   "source": [
    "total_topics = 2"
   ]
  },
  {
   "cell_type": "code",
   "execution_count": 15,
   "metadata": {
    "_cell_guid": "8fb9df90-fdc2-491b-a2aa-02c0eca4c29a",
    "_uuid": "db447043098a7546237bbaf4c7d1145103209160"
   },
   "outputs": [
    {
     "name": "stderr",
     "output_type": "stream",
     "text": [
      "2019-04-30 12:59:37,585 : INFO : using symmetric alpha at 0.5\n",
      "2019-04-30 12:59:37,587 : INFO : using symmetric eta at 0.5\n",
      "2019-04-30 12:59:37,591 : INFO : using serial LDA version on this node\n",
      "2019-04-30 12:59:37,598 : INFO : running online (single-pass) LDA training, 2 topics, 1 passes over the supplied corpus of 3218 documents, updating model once every 2000 documents, evaluating perplexity every 3218 documents, iterating 50x with a convergence threshold of 0.001000\n",
      "2019-04-30 12:59:37,599 : WARNING : too few updates, training might not converge; consider increasing the number of passes or iterations to improve accuracy\n",
      "2019-04-30 12:59:37,601 : INFO : PROGRESS: pass 0, at document #2000/3218\n",
      "2019-04-30 12:59:40,170 : INFO : merging changes from 2000 documents into a model of 3218 documents\n",
      "2019-04-30 12:59:40,178 : INFO : topic #0 (0.500): 0.009*\"tesla\" + 0.007*\"model\" + 0.004*\"@teslamotors:\" + 0.004*\"like\" + 0.003*\"first\" + 0.003*\"falcon\" + 0.003*\"3\" + 0.003*\"@teslamotors\" + 0.003*\"good\" + 0.003*\"would\"\n",
      "2019-04-30 12:59:40,180 : INFO : topic #1 (0.500): 0.004*\"tesla\" + 0.004*\"model\" + 0.003*\"great\" + 0.003*\"next\" + 0.003*\"launch\" + 0.003*\":)\" + 0.002*\"good\" + 0.002*\"yes\" + 0.002*\"3\" + 0.002*\"@spacex:\"\n",
      "2019-04-30 12:59:40,182 : INFO : topic diff=1.180168, rho=1.000000\n",
      "2019-04-30 12:59:41,784 : INFO : -9.927 per-word bound, 973.7 perplexity estimate based on a held-out corpus of 1218 documents with 12682 words\n",
      "2019-04-30 12:59:41,786 : INFO : PROGRESS: pass 0, at document #3218/3218\n",
      "2019-04-30 12:59:43,169 : INFO : merging changes from 1218 documents into a model of 3218 documents\n",
      "2019-04-30 12:59:43,174 : INFO : topic #0 (0.500): 0.011*\"tesla\" + 0.009*\"model\" + 0.004*\"falcon\" + 0.004*\"like\" + 0.003*\"landing\" + 0.003*\"@teslamotors\" + 0.003*\"new\" + 0.003*\"launch\" + 0.003*\"good\" + 0.003*\"rocket\"\n",
      "2019-04-30 12:59:43,176 : INFO : topic #1 (0.500): 0.005*\"launch\" + 0.004*\"rocket\" + 0.004*\"tesla\" + 0.003*\"@spacex:\" + 0.003*\"model\" + 0.003*\":)\" + 0.003*\"next\" + 0.003*\"good\" + 0.002*\"like\" + 0.002*\"falcon\"\n",
      "2019-04-30 12:59:43,178 : INFO : topic diff=1.120019, rho=0.707107\n"
     ]
    }
   ],
   "source": [
    "lda = models.LdaModel(corpus, id2word=dictionary, num_topics=total_topics)\n",
    "corpus_lda = lda[corpus_tfidf] # create a double wrapper over the original corpus: bow->tfidf->fold-in-lsi"
   ]
  },
  {
   "cell_type": "code",
   "execution_count": 16,
   "metadata": {
    "_cell_guid": "dfbb2723-ec7e-490e-8abd-fb646335bc55",
    "_uuid": "53e59fb13b5f55abb2e8158cdd0b244bcb055b3f"
   },
   "outputs": [
    {
     "data": {
      "text/plain": [
       "[(0,\n",
       "  '0.011*\"tesla\" + 0.009*\"model\" + 0.004*\"falcon\" + 0.004*\"like\" + 0.003*\"landing\"'),\n",
       " (1,\n",
       "  '0.005*\"launch\" + 0.004*\"rocket\" + 0.004*\"tesla\" + 0.003*\"@spacex:\" + 0.003*\"model\"')]"
      ]
     },
     "execution_count": 16,
     "metadata": {},
     "output_type": "execute_result"
    }
   ],
   "source": [
    "#Show first n important word in the topics:\n",
    "lda.show_topics(total_topics,5)"
   ]
  },
  {
   "cell_type": "code",
   "execution_count": 29,
   "metadata": {
    "_cell_guid": "bc653426-6a63-4b41-887d-92d270dc1168",
    "_uuid": "415d0d14427e94f9900776f3126d5bf8c2391beb"
   },
   "outputs": [
    {
     "data": {
      "text/html": [
       "\n",
       "<link rel=\"stylesheet\" type=\"text/css\" href=\"https://cdn.rawgit.com/bmabey/pyLDAvis/files/ldavis.v1.0.0.css\">\n",
       "\n",
       "\n",
       "<div id=\"ldavis_el6421123697310484405209668\"></div>\n",
       "<script type=\"text/javascript\">\n",
       "\n",
       "var ldavis_el6421123697310484405209668_data = {\"mdsDat\": {\"x\": [34.067298889160156, 28.446142196655273, 87.05274200439453, 121.84970092773438, 74.65819549560547], \"y\": [-112.58538818359375, -56.68017578125, -100.64191436767578, -58.938079833984375, -28.444053649902344], \"topics\": [1, 2, 3, 4, 5], \"cluster\": [1, 1, 1, 1, 1], \"Freq\": [42.33171463012695, 21.843780517578125, 15.476184844970703, 10.177839279174805, 10.170483589172363]}, \"tinfo\": {\"Category\": [\"Default\", \"Default\", \"Default\", \"Default\", \"Default\", \"Default\", \"Default\", \"Default\", \"Default\", \"Default\", \"Default\", \"Default\", \"Default\", \"Default\", \"Default\", \"Default\", \"Default\", \"Default\", \"Default\", \"Default\", \"Default\", \"Default\", \"Default\", \"Default\", \"Default\", \"Default\", \"Default\", \"Default\", \"Default\", \"Default\", \"Topic1\", \"Topic1\", \"Topic1\", \"Topic1\", \"Topic1\", \"Topic1\", \"Topic1\", \"Topic1\", \"Topic1\", \"Topic1\", \"Topic1\", \"Topic1\", \"Topic1\", \"Topic1\", \"Topic1\", \"Topic1\", \"Topic1\", \"Topic1\", \"Topic1\", \"Topic1\", \"Topic1\", \"Topic1\", \"Topic1\", \"Topic1\", \"Topic1\", \"Topic1\", \"Topic1\", \"Topic1\", \"Topic1\", \"Topic1\", \"Topic1\", \"Topic1\", \"Topic1\", \"Topic1\", \"Topic1\", \"Topic1\", \"Topic1\", \"Topic1\", \"Topic1\", \"Topic1\", \"Topic1\", \"Topic1\", \"Topic1\", \"Topic1\", \"Topic1\", \"Topic1\", \"Topic1\", \"Topic1\", \"Topic1\", \"Topic1\", \"Topic1\", \"Topic1\", \"Topic1\", \"Topic1\", \"Topic1\", \"Topic1\", \"Topic1\", \"Topic1\", \"Topic1\", \"Topic1\", \"Topic1\", \"Topic1\", \"Topic1\", \"Topic1\", \"Topic1\", \"Topic1\", \"Topic1\", \"Topic1\", \"Topic1\", \"Topic2\", \"Topic2\", \"Topic2\", \"Topic2\", \"Topic2\", \"Topic2\", \"Topic2\", \"Topic2\", \"Topic2\", \"Topic2\", \"Topic2\", \"Topic2\", \"Topic2\", \"Topic2\", \"Topic2\", \"Topic2\", \"Topic2\", \"Topic2\", \"Topic2\", \"Topic2\", \"Topic2\", \"Topic2\", \"Topic2\", \"Topic2\", \"Topic2\", \"Topic2\", \"Topic2\", \"Topic2\", \"Topic2\", \"Topic2\", \"Topic2\", \"Topic2\", \"Topic2\", \"Topic2\", \"Topic2\", \"Topic2\", \"Topic2\", \"Topic2\", \"Topic2\", \"Topic2\", \"Topic2\", \"Topic2\", \"Topic2\", \"Topic2\", \"Topic2\", \"Topic2\", \"Topic2\", \"Topic2\", \"Topic2\", \"Topic2\", \"Topic2\", \"Topic2\", \"Topic2\", \"Topic2\", \"Topic2\", \"Topic2\", \"Topic2\", \"Topic2\", \"Topic2\", \"Topic2\", \"Topic2\", \"Topic2\", \"Topic2\", \"Topic2\", \"Topic2\", \"Topic2\", \"Topic2\", \"Topic2\", \"Topic2\", \"Topic3\", \"Topic3\", \"Topic3\", \"Topic3\", \"Topic3\", \"Topic3\", \"Topic3\", \"Topic3\", \"Topic3\", \"Topic3\", \"Topic3\", \"Topic3\", \"Topic3\", \"Topic3\", \"Topic3\", \"Topic3\", \"Topic3\", \"Topic3\", \"Topic3\", \"Topic3\", \"Topic3\", \"Topic3\", \"Topic3\", \"Topic3\", \"Topic3\", \"Topic3\", \"Topic3\", \"Topic3\", \"Topic3\", \"Topic3\", \"Topic3\", \"Topic3\", \"Topic3\", \"Topic3\", \"Topic3\", \"Topic3\", \"Topic3\", \"Topic3\", \"Topic3\", \"Topic3\", \"Topic3\", \"Topic3\", \"Topic3\", \"Topic3\", \"Topic3\", \"Topic3\", \"Topic3\", \"Topic3\", \"Topic3\", \"Topic3\", \"Topic3\", \"Topic3\", \"Topic3\", \"Topic3\", \"Topic3\", \"Topic3\", \"Topic3\", \"Topic3\", \"Topic3\", \"Topic3\", \"Topic3\", \"Topic3\", \"Topic3\", \"Topic3\", \"Topic4\", \"Topic4\", \"Topic4\", \"Topic4\", \"Topic4\", \"Topic4\", \"Topic4\", \"Topic4\", \"Topic4\", \"Topic4\", \"Topic4\", \"Topic4\", \"Topic4\", \"Topic4\", \"Topic4\", \"Topic4\", \"Topic4\", \"Topic4\", \"Topic4\", \"Topic4\", \"Topic4\", \"Topic4\", \"Topic4\", \"Topic4\", \"Topic4\", \"Topic4\", \"Topic4\", \"Topic4\", \"Topic4\", \"Topic4\", \"Topic4\", \"Topic4\", \"Topic4\", \"Topic4\", \"Topic4\", \"Topic4\", \"Topic4\", \"Topic4\", \"Topic4\", \"Topic4\", \"Topic4\", \"Topic4\", \"Topic4\", \"Topic4\", \"Topic4\", \"Topic4\", \"Topic4\", \"Topic4\", \"Topic4\", \"Topic4\", \"Topic4\", \"Topic4\", \"Topic4\", \"Topic4\", \"Topic4\", \"Topic4\", \"Topic4\", \"Topic4\", \"Topic4\", \"Topic4\", \"Topic4\", \"Topic4\", \"Topic4\", \"Topic5\", \"Topic5\", \"Topic5\", \"Topic5\", \"Topic5\", \"Topic5\", \"Topic5\", \"Topic5\", \"Topic5\", \"Topic5\", \"Topic5\", \"Topic5\", \"Topic5\", \"Topic5\", \"Topic5\", \"Topic5\", \"Topic5\", \"Topic5\", \"Topic5\", \"Topic5\", \"Topic5\", \"Topic5\", \"Topic5\", \"Topic5\", \"Topic5\", \"Topic5\", \"Topic5\", \"Topic5\", \"Topic5\", \"Topic5\", \"Topic5\", \"Topic5\", \"Topic5\", \"Topic5\", \"Topic5\", \"Topic5\", \"Topic5\", \"Topic5\", \"Topic5\", \"Topic5\", \"Topic5\", \"Topic5\", \"Topic5\", \"Topic5\", \"Topic5\", \"Topic5\", \"Topic5\", \"Topic5\", \"Topic5\", \"Topic5\", \"Topic5\", \"Topic5\", \"Topic5\", \"Topic5\", \"Topic5\", \"Topic5\", \"Topic5\", \"Topic5\", \"Topic5\", \"Topic5\", \"Topic5\", \"Topic5\", \"Topic5\", \"Topic5\", \"Topic5\", \"Topic5\", \"Topic5\", \"Topic5\", \"Topic5\", \"Topic5\"], \"Freq\": [8.0, 12.0, 8.0, 7.0, 4.0, 21.0, 5.0, 6.0, 10.0, 2.0, 6.0, 1.0, 5.0, 2.0, 2.0, 4.0, 1.0, 1.0, 3.0, 3.0, 3.0, 4.0, 2.0, 3.0, 6.0, 12.0, 2.0, 2.0, 3.0, 2.0, 1.8938589096069336, 1.9588254690170288, 1.5942295789718628, 1.4491573572158813, 1.852908730506897, 1.5737042427062988, 1.3001317977905273, 1.2939202785491943, 1.2948154211044312, 1.2939339876174927, 1.2868103981018066, 1.2866833209991455, 1.9188507795333862, 1.1429260969161987, 1.0740435123443604, 1.0020167827606201, 0.9959627985954285, 0.9961619973182678, 0.9963036775588989, 0.994475245475769, 1.0567646026611328, 0.9933063387870789, 0.9929323196411133, 0.9929486513137817, 0.9289878606796265, 1.8742806911468506, 0.9870010018348694, 0.9895617961883545, 1.4878137111663818, 1.449755072593689, 1.7682723999023438, 1.861879825592041, 2.015228748321533, 2.542271375656128, 3.5528571605682373, 2.172940492630005, 2.1820459365844727, 3.919100046157837, 1.5843855142593384, 1.5019166469573975, 8.766404151916504, 2.718050241470337, 4.871132850646973, 15.447247505187988, 2.447739601135254, 4.485049724578857, 2.556858539581299, 2.782212734222412, 3.367825984954834, 5.782198905944824, 2.0434114933013916, 5.020851135253906, 3.15228533744812, 7.769900798797607, 4.358457088470459, 4.4580912590026855, 3.2990806102752686, 3.1736488342285156, 2.7835781574249268, 2.581467390060425, 2.6423416137695312, 2.9848439693450928, 3.723874092102051, 2.567373037338257, 2.2892932891845703, 2.4178059101104736, 2.4252235889434814, 2.3817965984344482, 2.3036060333251953, 0.9338964819908142, 0.9316524863243103, 0.8928191661834717, 0.8282611966133118, 0.7921508550643921, 0.7909296154975891, 0.6871590614318848, 0.7515990734100342, 0.7478051781654358, 0.650572657585144, 0.6477331519126892, 0.6488035321235657, 0.6466942429542542, 0.6828595995903015, 0.6111523509025574, 0.6123217344284058, 0.6297881603240967, 0.6852714419364929, 0.5096759796142578, 0.5068467259407043, 0.47484320402145386, 0.47484496235847473, 0.7129130959510803, 0.47298184037208557, 0.4724249839782715, 0.4731610119342804, 0.4723183810710907, 0.4703904092311859, 0.4710719883441925, 0.47207513451576233, 1.0787807703018188, 0.83210688829422, 0.5992348194122314, 0.8868908882141113, 0.7368528842926025, 0.8791761994361877, 2.27099871635437, 0.9570528864860535, 1.866646409034729, 1.2785166501998901, 1.0623787641525269, 1.2203456163406372, 8.251840591430664, 2.73807692527771, 1.8179954290390015, 3.0611701011657715, 1.2688959836959839, 8.335126876831055, 1.589045763015747, 3.2226667404174805, 1.2107871770858765, 2.1342432498931885, 1.2138113975524902, 3.203413963317871, 1.4784824848175049, 2.148123025894165, 2.594334602355957, 2.4728240966796875, 1.5586820840835571, 1.5625081062316895, 1.6947181224822998, 1.3581981658935547, 1.3925343751907349, 1.5595873594284058, 1.579775333404541, 1.36090886592865, 1.3293975591659546, 1.442387342453003, 1.3142677545547485, 1.0458428859710693, 0.8524565100669861, 0.9274433851242065, 0.8196911811828613, 0.8140332698822021, 0.6290602087974548, 0.7040336728096008, 0.5176551938056946, 0.48864254355430603, 0.48705223202705383, 0.48728588223457336, 0.4864109456539154, 0.4837387502193451, 0.48496565222740173, 0.4835294187068939, 0.4343099594116211, 0.4332277774810791, 0.42891108989715576, 0.40571483969688416, 0.4047469198703766, 0.4038510322570801, 0.375948965549469, 0.37555184960365295, 0.37451669573783875, 0.37382233142852783, 0.3752189874649048, 0.37560003995895386, 0.3736799359321594, 0.37019452452659607, 0.3615882694721222, 1.2634093761444092, 1.4752048254013062, 1.615432620048523, 0.7424439191818237, 3.0166640281677246, 0.7222902178764343, 4.129563808441162, 6.040945053100586, 3.9235293865203857, 0.9250670075416565, 0.8429256081581116, 1.7204996347427368, 0.8421528935432434, 0.905310869216919, 0.6429089903831482, 2.106232166290283, 1.0566000938415527, 1.313181757926941, 3.2127912044525146, 3.5837175846099854, 0.890836238861084, 0.982363224029541, 0.9762599468231201, 1.0382267236709595, 1.1720882654190063, 1.4188010692596436, 1.2010999917984009, 1.123463749885559, 1.1895081996917725, 0.9606358408927917, 0.9152287840843201, 0.9946349859237671, 0.9569432139396667, 0.9315415024757385, 0.4510714113712311, 0.43088459968566895, 0.4096200168132782, 0.5632505416870117, 0.40863272547721863, 0.40598806738853455, 0.3540953993797302, 0.3529546558856964, 0.33454829454421997, 0.33459794521331787, 0.3330460488796234, 0.40168944001197815, 0.2776864767074585, 0.3282918632030487, 0.5115252733230591, 0.257760226726532, 0.25819775462150574, 0.25751879811286926, 0.25766676664352417, 0.25793594121932983, 0.25729089975357056, 0.4235439896583557, 0.257448673248291, 0.2567392885684967, 0.25697800517082214, 0.25590404868125916, 0.25561752915382385, 0.25353139638900757, 0.20362809300422668, 0.3515078127384186, 0.2767254412174225, 0.9362126588821411, 0.4193883240222931, 0.58339923620224, 0.6642544269561768, 0.5765669941902161, 1.132599115371704, 0.8783976435661316, 0.5339115858078003, 1.2900874614715576, 0.8269914388656616, 0.8311058282852173, 1.0378888845443726, 1.070120930671692, 0.9723214507102966, 1.2519941329956055, 0.9486125111579895, 1.1950392723083496, 0.7918104529380798, 0.6633089184761047, 1.8002586364746094, 0.8976990580558777, 0.9094899892807007, 0.8103992938995361, 0.7218881845474243, 0.720523476600647, 0.7268328070640564, 0.5660181641578674, 0.6429110765457153, 0.565129280090332, 0.6160862445831299, 0.6294544339179993, 0.5938129425048828, 0.7567606568336487, 0.5514156818389893, 0.46570974588394165, 0.4654787480831146, 0.4117525517940521, 0.391877144575119, 0.33918672800064087, 0.3388611078262329, 0.32024726271629333, 0.31885552406311035, 0.3187059462070465, 0.31764036417007446, 1.0037966966629028, 0.2834911346435547, 0.2655079662799835, 0.2645304501056671, 0.24695146083831787, 0.24639402329921722, 0.24660779535770416, 0.24633826315402985, 0.24615097045898438, 0.24591799080371857, 0.3104477822780609, 0.2455117106437683, 0.24540917575359344, 0.2449718564748764, 0.39967384934425354, 0.2439652532339096, 0.24492038786411285, 0.22908054292201996, 0.24402809143066406, 0.3159017264842987, 0.49189451336860657, 1.060333013534546, 3.4553747177124023, 0.4827318489551544, 0.4084092378616333, 0.48260509967803955, 0.4011918008327484, 0.410317599773407, 1.4045857191085815, 0.5915820002555847, 0.9303836822509766, 1.488065481185913, 0.4765738844871521, 0.6045251488685608, 1.1891543865203857, 1.5636743307113647, 1.102155089378357, 0.6342622637748718, 1.5173509120941162, 0.5319244265556335, 0.7073042392730713, 0.7887148261070251, 0.7756258249282837, 0.7061685919761658, 1.4825921058654785, 0.8927794694900513, 0.7702212333679199, 0.6582818031311035, 1.4601536989212036, 0.9120967984199524, 0.660962700843811, 0.736447811126709, 0.6936931014060974, 0.618816077709198, 0.595589280128479, 0.6388649940490723, 0.6507740616798401, 0.5960938334465027], \"Term\": [\"rocket\", \"launch\", \"falcon\", \"@spacex:\", \"9\", \"model\", \"landing\", \"...\", \"good\", \"station\", \"@teslamotors\", \"pad\", \"would\", \"v\", \"yes\", \"space\", \"cape\", \"canaveral\", \"change\", \"live\", \"stage\", \"@spacex\", \"looks\", \"need\", \"dragon\", \"like\", \"super\", \"coming\", \"great\", \"high\", \"saying\", \"market\", \"hypersonic\", \"cool,\", \"p85d\", \"probability\", \"company.\", \"thanks,\", \"resale\", \"europe\", \"sun\", \"mt\", \"money\", \"@recode\", \"north\", \"point,\", \"park\", \"code\", \"breakfast\", \"face\", \"be.\", \"not.\", \"sea\", \"visit\", \"worked\", \"there.\", \"sf\", \"feedback\", \"mention\", \"building\", \"hearing\", \"ask\", \"service\", \"side\", \"could\", \"find\", \"looking\", \"i'm\", \"kids\", \"media\", \"like\", \"auto\", \"one\", \"tesla\", \"world's\", \":)\", \"already\", \"get\", \"us\", \"good\", \"done\", \"new\", \"people\", \"model\", \"car\", \"next\", \"time\", \"best\", \"back\", \"lot\", \"going\", \"...\", \"launch\", \"solar\", \"ever\", \"make\", \"much\", \"@teslamotors\", \"first\", \"comments\", \"sign\", \"doors\", \"named\", \"nice\", \"tesla,\", \"roadster\", \"engineering\", \"saw\", \"pods\", \"3,\", \"tv\", \"charge\", \"annual\", \"(not\", \"clear,\", \"tracking\", \"beautiful\", \"month.\", \"solution\", \"grandfather\", \"roughly\", \"dual\", \"available\", \"20\", \"morning.\", \"fire.\", \"shortly.\", \"affect\", \"winter\", \"govt\", \"put\", \"contract\", \"abort\", \"gen\", \"shows\", \"change\", \"system\", \"super\", \"hard\", \"version\", \"record\", \"model\", \"test\", \"climate\", \"@elonmusk\", \"open\", \"tesla\", \"software\", \"next\", \"range\", \"thanks\", \"vs\", \"good\", \"looks\", \"@teslamotors:\", \"car\", \"new\", \"autopilot\", \"landing\", \"first\", \"flight\", \"also\", \"dragon\", \"@spacex:\", \"w\", \"@teslamotors\", \"like\", \"launch\", \"spacecraft\", \"co2\", \"orbit.\", \"term\", \"tmrw\", \"mass\", \"appreciate\", \"delivered\", \"@theonion:\", \"mexico\", \"sustainable\", \"arrived\", \"mission.\", \"google\", \"leg\", \"questions\", \"guess\", \"found\", \"map\", \"vandenberg\", \"universe\", \"@westcoastbill\", \"become\", \"exceed\", \"perfect,\", \"@mikejudge\", \"martin\", \"smaller\", \"gives\", \"batteries\", \"driving\", \"pad\", \"yes\", \"single\", \"9\", \"advance\", \"@spacex:\", \"launch\", \"falcon\", \"vertical\", \"mins\", \"live\", \"static\", \"#dragon\", \"liftoff\", \"dragon\", \"work\", \"great\", \"model\", \"tesla\", \"watch\", \"future\", \"video\", \"love\", \"@spacex\", \"new\", \"@teslamotors:\", \"first\", \"rocket\", \"3\", \"still\", \"one\", \"landing\", \"test\", \"cover\", \"ft\", \"again.\", \"legs\", \"someone\", \"usually\", \"breaking:\", \"200\", \"contact\", \"announcing\", \"taxes\", \"tx\", \"them.\", \"york\", \"details\", \"tonight's\", \"link\", \"roll\", \"chamber\", \"expansion\", \"sensible\", \"weeks.\", \"ariane\", \"depends\", \"2nd\", \"surface\", \"florida\", \"senate\", \"dan\", \"size\", \"minor\", \"station\", \"seems\", \"help\", \"gas\", \"earth\", \"space\", \"high\", \"6\", \"...\", \"coming\", \"stage\", \"@spacex\", \"landing\", \"much\", \"falcon\", \"9\", \"rocket\", \"need\", \"v\", \"tesla\", \"would\", \"@spacex:\", \"w\", \"thanks\", \"dragon\", \"car\", \"due\", \":)\", \"almost\", \"first\", \"launch\", \"@elonmusk\", \"coast\", \"consumer\", \"reports\", \"picture\", \"opening\", \"(no\", \"hand\", \"evidence\", \"ui\", \"warranty\", \"50\", \"target.\", \"canaveral\", \"written\", \"metal\", \"handle\", \"aero\", \"unveiled\", \"scientists\", \"old\", \"driven\", \"deg\", \"actual\", \"stuff\", \"ascent\", \"scale\", \"name\", \"door\", \"active\", \"progress\", \"regulatory\", \"lost\", \"mile\", \"cape\", \"rocket\", \"three\", \"travel\", \"direct\", \"transfer\", \"ny\", \"landing\", \"upper\", \"right\", \"@teslamotors\", \"thrust\", \"fire\", \"...\", \"good\", \"would\", \"orbit\", \"like\", \"droneship\", \"still\", \"flight\", \"spacex\", \"looks\", \"model\", \"best\", \"great\", \"yes,\", \"tesla\", \"falcon\", \"stage\", \"first\", \":)\", \"need\", \"high\", \"people\", \"launch\", \"long\"], \"Total\": [8.0, 12.0, 8.0, 7.0, 4.0, 21.0, 5.0, 6.0, 10.0, 2.0, 6.0, 1.0, 5.0, 2.0, 2.0, 4.0, 1.0, 1.0, 3.0, 3.0, 3.0, 4.0, 2.0, 3.0, 6.0, 12.0, 2.0, 2.0, 3.0, 2.0, 1.9385931491851807, 2.0066676139831543, 1.639188289642334, 1.493398904800415, 1.9113051891326904, 1.6237565279006958, 1.3438019752502441, 1.3393208980560303, 1.3404035568237305, 1.3395023345947266, 1.334439754486084, 1.335132122039795, 1.994943380355835, 1.1891392469406128, 1.1186736822128296, 1.0465688705444336, 1.0408527851104736, 1.0411254167556763, 1.041278600692749, 1.0397891998291016, 1.1056288480758667, 1.0392802953720093, 1.038988709449768, 1.0390193462371826, 0.9727399945259094, 1.9634493589401245, 1.0349464416503906, 1.037781000137329, 1.5611227750778198, 1.522303819656372, 1.86934232711792, 1.989579677581787, 2.18745756149292, 2.82259202003479, 4.120389461517334, 2.441063165664673, 2.458069324493408, 4.81174373626709, 1.7600139379501343, 1.6600229740142822, 12.936421394348145, 3.4046475887298584, 7.090403079986572, 30.62650489807129, 3.063123941421509, 6.82253885269165, 3.3028247356414795, 3.727519989013672, 5.086507320404053, 10.914288520812988, 2.534054756164551, 9.651286125183105, 5.056756496429443, 21.107267379760742, 8.512991905212402, 8.96774673461914, 5.630741596221924, 5.492942810058594, 4.398521423339844, 3.831698417663574, 4.280030250549316, 6.207995414733887, 12.359314918518066, 4.625350475311279, 3.4026761054992676, 4.133011817932129, 4.685988426208496, 6.473250389099121, 6.4743218421936035, 0.9958122372627258, 0.9950276017189026, 0.9563934803009033, 0.8903118371963501, 0.8549894094467163, 0.8553820848464966, 0.7480665445327759, 0.8186382055282593, 0.8174410462379456, 0.71174156665802, 0.7113389372825623, 0.7133892774581909, 0.7118223309516907, 0.7533485293388367, 0.6748482584953308, 0.6769404411315918, 0.7024484872817993, 0.7668279409408569, 0.5707384943962097, 0.5710936188697815, 0.5351914167404175, 0.5352580547332764, 0.8052186369895935, 0.5344018340110779, 0.533860981464386, 0.5350404381752014, 0.5347242951393127, 0.5328235626220703, 0.5337510704994202, 0.534972071647644, 1.2233701944351196, 0.9491912722587585, 0.6823843121528625, 1.0299618244171143, 0.8643434643745422, 1.0487266778945923, 3.002635955810547, 1.1616824865341187, 2.46465802192688, 1.6538500785827637, 1.34774911403656, 1.6448482275009155, 21.107267379760742, 5.3273468017578125, 3.0529637336730957, 6.4796247482299805, 1.888307809829712, 30.62650489807129, 2.728898525238037, 8.96774673461914, 1.896714687347412, 5.149069309234619, 2.0111608505249023, 10.914288520812988, 2.8390238285064697, 5.650665283203125, 8.512991905212402, 9.651286125183105, 3.793971061706543, 5.028375625610352, 6.4743218421936035, 3.6156187057495117, 3.9691498279571533, 6.643940448760986, 7.798592567443848, 5.622274875640869, 6.473250389099121, 12.936421394348145, 12.359314918518066, 1.1164402961730957, 0.921796441078186, 1.006411075592041, 0.891612708568573, 0.8919293880462646, 0.6951334476470947, 0.7812121510505676, 0.5831455588340759, 0.5541935563087463, 0.5527732372283936, 0.5533491373062134, 0.5541623830795288, 0.5520878434181213, 0.5546560883522034, 0.5534839630126953, 0.4981097877025604, 0.4977244436740875, 0.4962039589881897, 0.46968695521354675, 0.46927231550216675, 0.47073137760162354, 0.44072139263153076, 0.44086068868637085, 0.44026222825050354, 0.44072771072387695, 0.442415326833725, 0.44297266006469727, 0.4409393072128296, 0.4401194453239441, 0.43691402673721313, 1.5543214082717896, 1.894682765007019, 2.2807273864746094, 0.9577938318252563, 4.8927693367004395, 0.9567959904670715, 7.798592567443848, 12.359314918518066, 8.025863647460938, 1.3732153177261353, 1.302020788192749, 3.6710710525512695, 1.3447035551071167, 1.56708824634552, 0.9417791962623596, 6.643940448760986, 2.373094081878662, 3.6882970333099365, 21.107267379760742, 30.62650489807129, 1.894248604774475, 2.411733627319336, 2.6987807750701904, 3.215819835662842, 4.663303852081299, 9.651286125183105, 5.650665283203125, 6.4743218421936035, 8.908973693847656, 3.90313982963562, 2.5861928462982178, 7.090403079986572, 5.028375625610352, 5.3273468017578125, 0.5196943283081055, 0.5000871419906616, 0.48116233944892883, 0.6639626026153564, 0.4825151562690735, 0.48439139127731323, 0.424986869096756, 0.423747718334198, 0.40314385294914246, 0.40338441729545593, 0.404202938079834, 0.48900333046913147, 0.34593793749809265, 0.4100346267223358, 0.6463612914085388, 0.32640814781188965, 0.32710644602775574, 0.3262532353401184, 0.32666015625, 0.3271055221557617, 0.32681623101234436, 0.5382788777351379, 0.3276376724243164, 0.32706359028816223, 0.328869491815567, 0.3283489942550659, 0.3318155109882355, 0.3295065462589264, 0.2714097499847412, 0.4694329798221588, 0.38227611780166626, 2.255470037460327, 0.7156463265419006, 1.2559772729873657, 1.6430367231369019, 1.3268948793411255, 4.455483913421631, 2.8735876083374023, 1.2204396724700928, 6.207995414733887, 2.893542766571045, 3.0183043479919434, 4.663303852081299, 5.028375625610352, 4.685988426208496, 8.025863647460938, 4.8927693367004395, 8.908973693847656, 3.61028790473938, 2.2960634231567383, 30.62650489807129, 5.510649681091309, 7.798592567443848, 5.622274875640869, 5.149069309234619, 6.643940448760986, 8.512991905212402, 2.613541841506958, 6.82253885269165, 3.112671375274658, 6.4743218421936035, 12.359314918518066, 6.4796247482299805, 0.8323683738708496, 0.6340565085411072, 0.5377399921417236, 0.5376998782157898, 0.48126286268234253, 0.46357035636901855, 0.40731945633888245, 0.4075435996055603, 0.3897114098072052, 0.38938722014427185, 0.38960549235343933, 0.39229628443717957, 1.2467657327651978, 0.3523983359336853, 0.3336566090583801, 0.334037184715271, 0.3148114085197449, 0.3148369789123535, 0.31587865948677063, 0.31560373306274414, 0.31538695096969604, 0.3152191638946533, 0.3995063602924347, 0.31621482968330383, 0.3161521553993225, 0.31615954637527466, 0.516326904296875, 0.3152049481868744, 0.3165195882320404, 0.2971527576446533, 0.31723082065582275, 0.41596823930740356, 0.7114554643630981, 1.7501060962677002, 8.908973693847656, 0.8400264382362366, 0.6623284220695496, 0.8714826107025146, 0.663497805595398, 0.7036880850791931, 5.028375625610352, 1.3092433214187622, 2.83371639251709, 6.473250389099121, 0.9509050250053406, 1.4728376865386963, 6.207995414733887, 10.914288520812988, 5.510649681091309, 1.7548918724060059, 12.936421394348145, 1.2842752933502197, 2.5861928462982178, 3.6156187057495117, 3.531858444213867, 2.8390238285064697, 21.107267379760742, 5.492942810058594, 3.6882970333099365, 2.428130626678467, 30.62650489807129, 8.025863647460938, 3.0183043479919434, 6.4743218421936035, 6.82253885269165, 3.61028790473938, 2.8735876083374023, 5.056756496429443, 12.359314918518066, 2.999652147293091], \"loglift\": [30.0, 29.0, 28.0, 27.0, 26.0, 25.0, 24.0, 23.0, 22.0, 21.0, 20.0, 19.0, 18.0, 17.0, 16.0, 15.0, 14.0, 13.0, 12.0, 11.0, 10.0, 9.0, 8.0, 7.0, 6.0, 5.0, 4.0, 3.0, 2.0, 1.0, 0.8363000154495239, 0.8355000019073486, 0.8317999839782715, 0.8295999765396118, 0.8285999894142151, 0.8282999992370605, 0.8266000151634216, 0.8251000046730042, 0.824999988079071, 0.824999988079071, 0.8233000040054321, 0.822700023651123, 0.8206999897956848, 0.8199999928474426, 0.8188999891281128, 0.816100001335144, 0.815500020980835, 0.815500020980835, 0.815500020980835, 0.8151000142097473, 0.8144000172615051, 0.8144000172615051, 0.814300000667572, 0.814300000667572, 0.8136000037193298, 0.8131999969482422, 0.8122000098228455, 0.8120999932289124, 0.8115000128746033, 0.8108000159263611, 0.804099977016449, 0.7932999730110168, 0.7775999903678894, 0.7549999952316284, 0.7113999724388123, 0.7433000206947327, 0.7404999732971191, 0.6543999910354614, 0.7544999718666077, 0.7595000267028809, 0.47049999237060547, 0.6344000101089478, 0.48420000076293945, 0.17520000040531158, 0.6353999972343445, 0.44020000100135803, 0.603600025177002, 0.5670999884605408, 0.447299987077713, 0.22429999709129333, 0.6444000005722046, 0.2061000019311905, 0.3869999945163727, -0.1396999955177307, 0.19020000100135803, 0.1606999933719635, 0.32499998807907104, 0.3111000061035156, 0.40209999680519104, 0.46470001339912415, 0.3772999942302704, 0.12729999423027039, -0.3400000035762787, 0.2709999978542328, 0.4632999897003174, 0.32350000739097595, 0.20100000500679016, -0.14020000398159027, -0.1737000048160553, 1.4571000337600708, 1.455399990081787, 1.4524999856948853, 1.4490000009536743, 1.4449000358581543, 1.4428999423980713, 1.4363000392913818, 1.4357999563217163, 1.4321999549865723, 1.431399941444397, 1.4276000261306763, 1.4263999462127686, 1.4253000020980835, 1.4229999780654907, 1.4220999479293823, 1.4208999872207642, 1.4120999574661255, 1.4088000059127808, 1.4081000089645386, 1.401900053024292, 1.4016000032424927, 1.4014999866485596, 1.3995000123977661, 1.3991999626159668, 1.3990000486373901, 1.398300051689148, 1.3971999883651733, 1.3966000080108643, 1.396299958229065, 1.3961999416351318, 1.3954999446868896, 1.3896000385284424, 1.3912999629974365, 1.3717000484466553, 1.3617000579833984, 1.3449000120162964, 1.2419999837875366, 1.3274999856948853, 1.243299961090088, 1.263800024986267, 1.2833000421524048, 1.2226999998092651, 0.582099974155426, 0.8557000160217285, 1.0029000043869019, 0.771399974822998, 1.1237000226974487, 0.2198999971151352, 0.9804999828338623, 0.49779999256134033, 1.0723999738693237, 0.6406000256538391, 1.0162999629974365, 0.2953999936580658, 0.8687999844551086, 0.554099977016449, 0.3330000042915344, 0.15950000286102295, 0.6316999793052673, 0.352400004863739, 0.1808999925851822, 0.5421000123023987, 0.47380000352859497, 0.07199999690055847, -0.07540000230073929, 0.10270000249147415, -0.0617000013589859, -0.6725000143051147, -0.7199000120162964, 1.8005000352859497, 1.7877000570297241, 1.7841999530792236, 1.7818000316619873, 1.7745000123977661, 1.7660000324249268, 1.7618000507354736, 1.7467000484466553, 1.7400000095367432, 1.739300012588501, 1.738700032234192, 1.7354999780654907, 1.7337000370025635, 1.731600046157837, 1.7307000160217285, 1.7288000583648682, 1.7271000146865845, 1.7201000452041626, 1.719499945640564, 1.717900037765503, 1.7125999927520752, 1.7069000005722046, 1.7055000066757202, 1.7041000127792358, 1.701200008392334, 1.7010999917984009, 1.7008999586105347, 1.7003999948501587, 1.6928999423980713, 1.6765999794006348, 1.6585999727249146, 1.6155999898910522, 1.5210000276565552, 1.611199975013733, 1.3823000192642212, 1.5846999883651733, 1.2301000356674194, 1.149999976158142, 1.1502000093460083, 1.4708000421524048, 1.4311000108718872, 1.1080000400543213, 1.3978999853134155, 1.317199945449829, 1.4840999841690063, 0.7171000242233276, 1.0566999912261963, 0.8331999778747559, -0.016599999740719795, -0.27959999442100525, 1.1115000247955322, 0.9677000045776367, 0.8489999771118164, 0.7353000044822693, 0.48489999771118164, -0.05139999836683273, 0.3172999918460846, 0.1143999993801117, -0.1476999968290329, 0.46389999985694885, 0.8270999789237976, -0.09830000251531601, 0.20679999887943268, 0.12210000306367874, 2.1433000564575195, 2.135999917984009, 2.124000072479248, 2.120500087738037, 2.118799924850464, 2.1084001064300537, 2.1024999618530273, 2.1022000312805176, 2.098400115966797, 2.0980000495910645, 2.0913000106811523, 2.0882999897003174, 2.065200090408325, 2.0625998973846436, 2.0510001182556152, 2.048799991607666, 2.0483999252319336, 2.0483999252319336, 2.0476999282836914, 2.0473999977111816, 2.045799970626831, 2.0452001094818115, 2.0439000129699707, 2.0429000854492188, 2.038300037384033, 2.0357000827789307, 2.0241000652313232, 2.0227999687194824, 1.9975999593734741, 1.9957000017166138, 1.9617999792099, 1.4056999683380127, 1.750599980354309, 1.5182000398635864, 1.3792999982833862, 1.4515000581741333, 0.9153000116348267, 1.0996999740600586, 1.4581999778747559, 0.7138000130653381, 1.0325000286102295, 0.9952999949455261, 0.7824000120162964, 0.7376000285148621, 0.7123000025749207, 0.4269999861717224, 0.6444000005722046, 0.2761000096797943, 0.7677000164985657, 1.0432000160217285, -0.5490000247955322, 0.47040000557899475, 0.13609999418258667, 0.3479999899864197, 0.32030001282691956, 0.06350000202655792, -0.17569999396800995, 0.7551000118255615, -0.07699999958276749, 0.5788000226020813, -0.06729999929666519, -0.6923999786376953, -0.10490000247955322, 2.190500020980835, 2.1459999084472656, 2.141900062561035, 2.141400098800659, 2.129699945449829, 2.1177000999450684, 2.10260009765625, 2.101099967956543, 2.089400053024292, 2.0857999324798584, 2.0848000049591064, 2.0745999813079834, 2.0689001083374023, 2.0680999755859375, 2.0571999549865723, 2.0524001121520996, 2.0429000854492188, 2.040600061416626, 2.038100004196167, 2.037899971008301, 2.0378000736236572, 2.037400007247925, 2.0334999561309814, 2.032599925994873, 2.032399892807007, 2.030600070953369, 2.029599905014038, 2.0295000076293945, 2.0292000770568848, 2.0255000591278076, 2.0232999324798584, 2.010499954223633, 1.916599988937378, 1.784600019454956, 1.3386000394821167, 1.7316999435424805, 1.8021999597549438, 1.694700002670288, 1.7826000452041626, 1.7462999820709229, 1.0103000402450562, 1.4912999868392944, 1.1719000339508057, 0.815500020980835, 1.5949000120162964, 1.3952000141143799, 0.6330999732017517, 0.3425999879837036, 0.6762999892234802, 1.2680000066757202, 0.14259999990463257, 1.4041999578475952, 0.9891999959945679, 0.7631000280380249, 0.7698000073432922, 0.8942999839782715, -0.3700999915599823, 0.46880000829696655, 0.7193999886512756, 0.980400025844574, -0.7576000094413757, 0.11100000143051147, 0.7669000029563904, 0.11190000176429749, -0.0003000000142492354, 0.5218999981880188, 0.711899995803833, 0.21690000593662262, -0.65829998254776, 0.6697999835014343], \"logprob\": [30.0, 29.0, 28.0, 27.0, 26.0, 25.0, 24.0, 23.0, 22.0, 21.0, 20.0, 19.0, 18.0, 17.0, 16.0, 15.0, 14.0, 13.0, 12.0, 11.0, 10.0, 9.0, 8.0, 7.0, 6.0, 5.0, 4.0, 3.0, 2.0, 1.0, -6.5782999992370605, -6.54449987411499, -6.750500202178955, -6.845900058746338, -6.600100040435791, -6.763400077819824, -6.954400062561035, -6.959199905395508, -6.958499908447266, -6.959199905395508, -6.964700222015381, -6.964799880981445, -6.565199851989746, -7.0833001136779785, -7.145500183105469, -7.214900016784668, -7.220900058746338, -7.220699787139893, -7.220600128173828, -7.222400188446045, -7.1616997718811035, -7.223599910736084, -7.223999977111816, -7.223999977111816, -7.290500164031982, -6.588699817657471, -7.230000019073486, -7.227399826049805, -6.8196001052856445, -6.8454999923706055, -6.646900177001953, -6.595300197601318, -6.51609992980957, -6.28380012512207, -5.949100017547607, -6.440800189971924, -6.436600208282471, -5.85099983215332, -6.756700038909912, -6.810100078582764, -5.046000003814697, -6.2170000076293945, -5.633600234985352, -4.479499816894531, -6.321700096130371, -5.716100215911865, -6.27810001373291, -6.193600177764893, -6.002600193023682, -5.462100028991699, -6.502299785614014, -5.603300094604492, -6.06879997253418, -5.166600227355957, -5.744800090789795, -5.7221999168396, -6.023200035095215, -6.061999797821045, -6.1930999755859375, -6.268499851226807, -6.245200157165527, -6.123300075531006, -5.902100086212158, -6.27400016784668, -6.388599872589111, -6.334000110626221, -6.330999851226807, -6.348999977111816, -6.382400035858154, -6.623700141906738, -6.626100063323975, -6.668600082397461, -6.74370002746582, -6.788300037384033, -6.78980016708374, -6.930500030517578, -6.840799808502197, -6.845900058746338, -6.985199928283691, -6.989500045776367, -6.9878997802734375, -6.991099834442139, -6.936699867248535, -7.047699928283691, -7.04580020904541, -7.017600059509277, -6.933199882507324, -7.2291998863220215, -7.234799861907959, -7.300000190734863, -7.300000190734863, -6.893700122833252, -7.303999900817871, -7.305099964141846, -7.303599834442139, -7.3053998947143555, -7.309500217437744, -7.308000087738037, -7.3059000968933105, -6.479400157928467, -6.739099979400635, -7.067399978637695, -6.675300121307373, -6.860599994659424, -6.684000015258789, -5.735000133514404, -6.5991997718811035, -5.931099891662598, -6.309599876403809, -6.494800090789795, -6.356100082397461, -4.444799900054932, -5.547999858856201, -5.957499980926514, -5.436500072479248, -6.3171000480651855, -4.434800148010254, -6.092100143432617, -5.3850998878479, -6.363999843597412, -5.797100067138672, -6.361499786376953, -5.390999794006348, -6.1641998291015625, -5.7906999588012695, -5.601900100708008, -5.649899959564209, -6.111400127410889, -6.109000205993652, -6.027699947357178, -6.249100208282471, -6.224100112915039, -6.110799789428711, -6.0980000495910645, -6.247099876403809, -6.270500183105469, -6.189000129699707, -6.2820000648498535, -6.165800094604492, -6.370299816131592, -6.285999774932861, -6.4095001220703125, -6.416399955749512, -6.674200057983398, -6.561600208282471, -6.869100093841553, -6.926799774169922, -6.929999828338623, -6.929599761962891, -6.931300163269043, -6.9369001388549805, -6.934299945831299, -6.937300205230713, -7.044600009918213, -7.047100067138672, -7.057199954986572, -7.112800121307373, -7.115099906921387, -7.117400169372559, -7.188899993896484, -7.190000057220459, -7.192800045013428, -7.1946001052856445, -7.190899848937988, -7.189899921417236, -7.195000171661377, -7.204400062561035, -7.22790002822876, -5.976799964904785, -5.821899890899658, -5.730999946594238, -6.508500099182129, -5.106500148773193, -6.535999774932861, -4.792500019073486, -4.412099838256836, -4.843699932098389, -6.28849983215332, -6.381499767303467, -5.668000221252441, -6.382400035858154, -6.310100078582764, -6.652400016784668, -5.465700149536133, -6.155600070953369, -5.938199996948242, -5.043499946594238, -4.934199810028076, -6.326200008392334, -6.228400230407715, -6.2347002029418945, -6.173099994659424, -6.0518999099731445, -5.860799789428711, -6.027400016784668, -6.094200134277344, -6.037099838256836, -6.250800132751465, -6.299200057983398, -6.216000080108643, -6.254700183868408, -6.281599998474121, -6.587699890136719, -6.633500099182129, -6.684100151062012, -6.365600109100342, -6.686500072479248, -6.692999839782715, -6.829699993133545, -6.833000183105469, -6.886499881744385, -6.88640022277832, -6.890999794006348, -6.70359992980957, -7.072800159454346, -6.905399799346924, -6.461900234222412, -7.147299766540527, -7.145599842071533, -7.148200035095215, -7.147600173950195, -7.146599769592285, -7.149099826812744, -6.650700092315674, -7.148499965667725, -7.151299953460693, -7.150300025939941, -7.1545000076293945, -7.155600070953369, -7.16379976272583, -7.382999897003174, -6.837100028991699, -7.076300144195557, -5.857500076293945, -6.6605000495910645, -6.330399990081787, -6.2006001472473145, -6.342199802398682, -5.666999816894531, -5.921199798583984, -6.419099807739258, -5.536799907684326, -5.981500148773193, -5.976600170135498, -5.75439977645874, -5.723800182342529, -5.8196001052856445, -5.566800117492676, -5.844299793243408, -5.613399982452393, -6.025000095367432, -6.202099800109863, -5.20359992980957, -5.899499893188477, -5.88640022277832, -6.001800060272217, -6.117400169372559, -6.11929988861084, -6.110599994659424, -6.3607001304626465, -6.23330020904541, -6.362299919128418, -6.275899887084961, -6.254499912261963, -6.312699794769287, -6.069499969482422, -6.386099815368652, -6.554999828338623, -6.555500030517578, -6.678199768066406, -6.72760009765625, -6.872000217437744, -6.873000144958496, -6.929500102996826, -6.933899879455566, -6.934299945831299, -6.937699794769287, -5.7870001792907715, -7.051400184631348, -7.1168999671936035, -7.12060022354126, -7.1894001960754395, -7.191699981689453, -7.190800189971924, -7.19189977645874, -7.192599773406982, -7.193600177764893, -6.960599899291992, -7.195199966430664, -7.195700168609619, -7.197400093078613, -6.707900047302246, -7.201600074768066, -7.197700023651123, -7.264500141143799, -7.201300144195557, -6.94320011138916, -6.50029993057251, -5.7322998046875, -4.550899982452393, -6.519100189208984, -6.686299800872803, -6.519400119781494, -6.70419979095459, -6.681700229644775, -5.451099872589111, -6.315800189971924, -5.86299991607666, -5.393400192260742, -6.5320000648498535, -6.294099807739258, -5.617599964141846, -5.343800067901611, -5.693600177764893, -6.246099948883057, -5.373899936676025, -6.422100067138672, -6.1371002197265625, -6.028200149536133, -6.044899940490723, -6.138700008392334, -5.396999835968018, -5.904200077056885, -6.0518999099731445, -6.209000110626221, -5.412300109863281, -5.882800102233887, -6.204899787902832, -6.096799850463867, -6.156599998474121, -6.2708001136779785, -6.309000015258789, -6.238900184631348, -6.220399856567383, -6.308199882507324]}, \"token.table\": {\"Topic\": [3, 2, 1, 3, 4, 5, 1, 2, 3, 2, 4, 3, 4, 1, 2, 4, 5, 1, 2, 4, 5, 1, 1, 2, 3, 4, 1, 2, 3, 4, 1, 2, 3, 5, 1, 2, 3, 5, 2, 3, 1, 4, 1, 1, 2, 2, 3, 1, 1, 1, 2, 1, 2, 4, 1, 2, 1, 2, 5, 1, 1, 5, 5, 1, 2, 4, 5, 2, 2, 2, 1, 2, 3, 5, 1, 1, 3, 4, 2, 1, 5, 2, 1, 1, 3, 4, 1, 2, 1, 2, 3, 4, 3, 5, 2, 1, 2, 4, 4, 2, 1, 1, 1, 1, 2, 3, 4, 5, 1, 1, 3, 5, 1, 2, 3, 4, 5, 1, 2, 4, 5, 2, 3, 4, 2, 1, 1, 2, 1, 2, 5, 2, 1, 2, 3, 5, 2, 1, 4, 1, 2, 4, 5, 1, 1, 1, 2, 3, 4, 5, 1, 2, 3, 4, 5, 4, 3, 1, 2, 3, 5, 1, 2, 3, 1, 3, 5, 1, 1, 2, 5, 1, 2, 1, 2, 3, 1, 2, 1, 3, 1, 1, 3, 1, 2, 3, 5, 1, 2, 1, 1, 2, 3, 4, 2, 1, 3, 4, 5, 1, 2, 3, 4, 1, 2, 2, 1, 1, 1, 2, 3, 1, 2, 5, 3, 1, 3, 1, 1, 5, 2, 1, 1, 2, 1, 2, 2, 1, 1, 3, 5, 2, 1, 2, 3, 4, 5, 2, 1, 1, 1, 1, 2, 1, 2, 3, 2, 1, 2, 3, 2, 1, 4, 3, 1, 3, 5, 2, 4, 5, 3, 1, 4, 2, 3, 5, 1, 2, 2, 3, 1, 2, 3, 4, 5, 2, 1, 2, 3, 1, 2, 3, 4, 1, 1, 1, 2, 3, 3, 2, 2, 5, 1, 2, 1, 4, 2, 3, 2, 3, 5, 1, 2, 3, 1, 2, 3, 4, 2, 3, 2, 3, 1, 1, 1, 2, 3, 4, 5, 3, 2, 5], \"Freq\": [0.6381261348724365, 1.4818146228790283, 0.4832477867603302, 0.16108259558677673, 0.16108259558677673, 0.16108259558677673, 0.2562039792537689, 0.2562039792537689, 0.2562039792537689, 1.4057996273040771, 0.8193768262863159, 0.6131497025489807, 0.2043832242488861, 0.586292028427124, 0.146573007106781, 0.146573007106781, 0.146573007106781, 0.3086598515510559, 0.46298977732658386, 0.15432992577552795, 0.15432992577552795, 0.8409444093704224, 0.2144402414560318, 0.2144402414560318, 0.2144402414560318, 0.2144402414560318, 0.12822826206684113, 0.25645652413368225, 0.5129130482673645, 0.12822826206684113, 0.308963805437088, 0.154481902718544, 0.154481902718544, 0.154481902718544, 0.3539406359195709, 0.3539406359195709, 0.17697031795978546, 0.17697031795978546, 0.9709097743034363, 1.0451549291610718, 0.6425349116325378, 0.3212674558162689, 0.9083133935928345, 0.5038862228393555, 0.25194311141967773, 1.327406883239746, 1.280061960220337, 1.0052374601364136, 0.8811484575271606, 0.26357606053352356, 0.5271521210670471, 0.6820473670959473, 0.22734913229942322, 0.22734913229942322, 0.9044626355171204, 1.304073452949524, 0.5461553335189819, 0.18205177783966064, 0.18205177783966064, 0.9603577852249146, 0.656899094581604, 0.8020753264427185, 0.5713939070701599, 0.46987006068229675, 0.35240253806114197, 0.11746751517057419, 0.11746751517057419, 0.666081428527832, 1.4048449993133545, 1.4772348403930664, 0.3275505602359772, 0.6551011204719543, 1.0848381519317627, 1.2013911008834839, 0.9604990482330322, 0.34559711813926697, 0.34559711813926697, 0.34559711813926697, 1.004205346107483, 0.7441572546958923, 1.5771465301513672, 1.4654498100280762, 0.6696134805679321, 0.9707820415496826, 1.714837670326233, 1.5471223592758179, 0.7892489433288574, 1.0455946922302246, 0.3010261654853821, 0.3010261654853821, 0.3010261654853821, 0.15051308274269104, 0.64336758852005, 0.7786492705345154, 1.241898775100708, 0.38262253999710083, 0.38262253999710083, 0.38262253999710083, 0.7536392211914062, 1.2215408086776733, 0.7465459108352661, 0.5877726674079895, 0.9617334008216858, 0.12459718436002731, 0.12459718436002731, 0.49838873744010925, 0.12459718436002731, 0.12459718436002731, 0.9635944366455078, 0.8193151354789734, 0.678961455821991, 0.678961455821991, 0.3089126646518707, 0.3089126646518707, 0.15445633232593536, 0.15445633232593536, 0.15445633232593536, 0.27657783031463623, 0.27657783031463623, 0.27657783031463623, 0.27657783031463623, 0.41463950276374817, 0.41463950276374817, 0.6086291074752808, 1.1569474935531616, 0.8048246502876282, 0.7009296417236328, 0.23364320397377014, 0.5497380495071411, 0.27486902475357056, 0.18324603140354156, 0.8174140453338623, 0.271127849817276, 0.271127849817276, 0.271127849817276, 0.271127849817276, 0.6046497225761414, 1.0698950290679932, 0.7961927652359009, 0.3479970395565033, 0.3479970395565033, 0.3479970395565033, 0.3479970395565033, 1.220116138458252, 0.8312994837760925, 1.136354684829712, 0.39774274826049805, 0.19887137413024902, 0.19887137413024902, 0.19887137413024902, 0.3236425220966339, 0.08091063052415848, 0.48546379804611206, 0.08091063052415848, 0.08091063052415848, 1.5061088800430298, 1.0618200302124023, 0.6957101821899414, 0.07730112969875336, 0.07730112969875336, 0.1546022593975067, 0.2724000811576843, 0.2724000811576843, 0.5448001623153687, 0.33337199687957764, 0.33337199687957764, 0.33337199687957764, 0.813646674156189, 0.35223373770713806, 0.35223373770713806, 0.35223373770713806, 0.7829425930976868, 0.26098087430000305, 0.3109627068042755, 0.3109627068042755, 0.3109627068042755, 0.48390862345695496, 0.24195431172847748, 0.9966772794723511, 1.438572645187378, 1.2048026323318481, 0.6405646204948425, 0.7680369019508362, 0.37901636958122253, 0.37901636958122253, 0.14213113486766815, 0.04737704619765282, 1.0025347471237183, 1.7521159648895264, 0.7489895224571228, 0.4268043041229248, 0.2134021520614624, 0.2134021520614624, 0.2134021520614624, 1.1232019662857056, 0.2769862115383148, 0.2769862115383148, 0.2769862115383148, 0.2769862115383148, 0.5180656909942627, 0.20722626149654388, 0.10361313074827194, 0.10361313074827194, 0.4460429251194, 0.3345322012901306, 1.1696051359176636, 0.8939157128334045, 0.9622043371200562, 0.7051784992218018, 0.14103570580482483, 0.14103570580482483, 0.5295746922492981, 0.5295746922492981, 0.5698356628417969, 0.9936297535896301, 1.04640531539917, 0.5277928709983826, 0.9607506394386292, 0.5932656526565552, 0.19775521755218506, 1.4050043821334839, 0.9555032849311829, 1.231711745262146, 1.0535284280776978, 0.5272274017333984, 0.5272274017333984, 0.6079588532447815, 0.7460439801216125, 0.3528934717178345, 0.3528934717178345, 0.3528934717178345, 1.3367794752120972, 0.22449274361133575, 0.11224637180566788, 0.11224637180566788, 0.11224637180566788, 0.33673912286758423, 1.223329782485962, 1.031675934791565, 0.9624743461608887, 0.9143034815788269, 0.9662335515022278, 0.9535372853279114, 1.0628528594970703, 1.0049972534179688, 1.044066071510315, 0.7328964471817017, 0.6485995054244995, 0.2161998301744461, 0.2161998301744461, 1.7510263919830322, 0.4488850235939026, 0.2244425117969513, 0.8957039713859558, 0.2831370532512665, 0.2831370532512665, 0.2831370532512665, 0.3313118517398834, 0.3313118517398834, 0.3313118517398834, 0.7436583042144775, 0.44336655735969543, 0.44336655735969543, 0.38666877150535583, 0.38666877150535583, 0.38666877150535583, 0.7493781447410583, 0.8114715814590454, 0.8608204126358032, 1.121563196182251, 0.48977184295654297, 0.26121166348457336, 0.13060583174228668, 0.06530291587114334, 0.03265145793557167, 1.1690682172775269, 0.187710702419281, 0.563132107257843, 0.187710702419281, 0.19420985877513885, 0.3884197175502777, 0.19420985877513885, 0.19420985877513885, 0.74664705991745, 1.018615484237671, 0.5327895283699036, 0.17759649455547333, 0.17759649455547333, 1.1211650371551514, 1.4235919713974, 1.4017592668533325, 0.7637999653816223, 0.5897956490516663, 0.19659855961799622, 0.871056079864502, 0.435528039932251, 0.741977870464325, 0.7282178997993469, 0.3705376982688904, 0.3705376982688904, 0.3705376982688904, 0.9624459743499756, 0.497225284576416, 0.497225284576416, 0.355727881193161, 0.1778639405965805, 0.1778639405965805, 0.1778639405965805, 0.5279138088226318, 0.5279138088226318, 0.4213908016681671, 0.4213908016681671, 1.0280239582061768, 0.6529281735420227, 0.36293360590934753, 0.18146680295467377, 0.18146680295467377, 0.18146680295467377, 0.18146680295467377, 0.8769132494926453, 0.41183945536613464, 0.41183945536613464], \"Term\": [\"#dragon\", \"(not\", \"...\", \"...\", \"...\", \"...\", \"3\", \"3\", \"3\", \"3,\", \"6\", \"9\", \"9\", \":)\", \":)\", \":)\", \":)\", \"@elonmusk\", \"@elonmusk\", \"@elonmusk\", \"@elonmusk\", \"@recode\", \"@spacex\", \"@spacex\", \"@spacex\", \"@spacex\", \"@spacex:\", \"@spacex:\", \"@spacex:\", \"@spacex:\", \"@teslamotors\", \"@teslamotors\", \"@teslamotors\", \"@teslamotors\", \"@teslamotors:\", \"@teslamotors:\", \"@teslamotors:\", \"@teslamotors:\", \"abort\", \"advance\", \"almost\", \"almost\", \"already\", \"also\", \"also\", \"annual\", \"appreciate\", \"ask\", \"auto\", \"autopilot\", \"autopilot\", \"back\", \"back\", \"back\", \"be.\", \"beautiful\", \"best\", \"best\", \"best\", \"breakfast\", \"building\", \"canaveral\", \"cape\", \"car\", \"car\", \"car\", \"car\", \"change\", \"charge\", \"clear,\", \"climate\", \"climate\", \"co2\", \"coast\", \"code\", \"coming\", \"coming\", \"coming\", \"comments\", \"company.\", \"consumer\", \"contract\", \"cool,\", \"could\", \"delivered\", \"details\", \"done\", \"doors\", \"dragon\", \"dragon\", \"dragon\", \"dragon\", \"driving\", \"droneship\", \"dual\", \"due\", \"due\", \"due\", \"earth\", \"engineering\", \"europe\", \"ever\", \"face\", \"falcon\", \"falcon\", \"falcon\", \"falcon\", \"falcon\", \"feedback\", \"find\", \"fire\", \"fire\", \"first\", \"first\", \"first\", \"first\", \"first\", \"flight\", \"flight\", \"flight\", \"flight\", \"future\", \"future\", \"gas\", \"gen\", \"get\", \"going\", \"going\", \"good\", \"good\", \"good\", \"govt\", \"great\", \"great\", \"great\", \"great\", \"hard\", \"hearing\", \"help\", \"high\", \"high\", \"high\", \"high\", \"hypersonic\", \"i'm\", \"kids\", \"landing\", \"landing\", \"landing\", \"landing\", \"launch\", \"launch\", \"launch\", \"launch\", \"launch\", \"legs\", \"liftoff\", \"like\", \"like\", \"like\", \"like\", \"live\", \"live\", \"live\", \"long\", \"long\", \"long\", \"looking\", \"looks\", \"looks\", \"looks\", \"lot\", \"lot\", \"love\", \"love\", \"love\", \"make\", \"make\", \"market\", \"mass\", \"media\", \"mention\", \"mins\", \"model\", \"model\", \"model\", \"model\", \"money\", \"month.\", \"mt\", \"much\", \"much\", \"much\", \"much\", \"named\", \"need\", \"need\", \"need\", \"need\", \"new\", \"new\", \"new\", \"new\", \"next\", \"next\", \"nice\", \"north\", \"not.\", \"one\", \"one\", \"one\", \"open\", \"open\", \"orbit\", \"orbit.\", \"p85d\", \"pad\", \"park\", \"people\", \"people\", \"pods\", \"point,\", \"probability\", \"put\", \"range\", \"range\", \"record\", \"resale\", \"right\", \"right\", \"right\", \"roadster\", \"rocket\", \"rocket\", \"rocket\", \"rocket\", \"rocket\", \"saw\", \"saying\", \"sea\", \"service\", \"sf\", \"shows\", \"side\", \"sign\", \"single\", \"software\", \"solar\", \"solar\", \"solar\", \"solution\", \"space\", \"space\", \"spacecraft\", \"spacex\", \"spacex\", \"spacex\", \"stage\", \"stage\", \"stage\", \"static\", \"station\", \"station\", \"still\", \"still\", \"still\", \"sun\", \"super\", \"system\", \"term\", \"tesla\", \"tesla\", \"tesla\", \"tesla\", \"tesla\", \"tesla,\", \"test\", \"test\", \"test\", \"thanks\", \"thanks\", \"thanks\", \"thanks\", \"thanks,\", \"there.\", \"time\", \"time\", \"time\", \"tmrw\", \"tracking\", \"tv\", \"upper\", \"us\", \"us\", \"v\", \"v\", \"version\", \"vertical\", \"video\", \"video\", \"video\", \"visit\", \"vs\", \"vs\", \"w\", \"w\", \"w\", \"w\", \"watch\", \"watch\", \"work\", \"work\", \"worked\", \"world's\", \"would\", \"would\", \"would\", \"would\", \"would\", \"yes\", \"yes,\", \"yes,\"]}, \"R\": 30, \"lambda.step\": 0.01, \"plot.opts\": {\"xlab\": \"PC1\", \"ylab\": \"PC2\"}, \"topic.order\": [2, 3, 4, 1, 5]};\n",
       "\n",
       "function LDAvis_load_lib(url, callback){\n",
       "  var s = document.createElement('script');\n",
       "  s.src = url;\n",
       "  s.async = true;\n",
       "  s.onreadystatechange = s.onload = callback;\n",
       "  s.onerror = function(){console.warn(\"failed to load library \" + url);};\n",
       "  document.getElementsByTagName(\"head\")[0].appendChild(s);\n",
       "}\n",
       "\n",
       "if(typeof(LDAvis) !== \"undefined\"){\n",
       "   // already loaded: just create the visualization\n",
       "   !function(LDAvis){\n",
       "       new LDAvis(\"#\" + \"ldavis_el6421123697310484405209668\", ldavis_el6421123697310484405209668_data);\n",
       "   }(LDAvis);\n",
       "}else if(typeof define === \"function\" && define.amd){\n",
       "   // require.js is available: use it to load d3/LDAvis\n",
       "   require.config({paths: {d3: \"https://cdnjs.cloudflare.com/ajax/libs/d3/3.5.5/d3.min\"}});\n",
       "   require([\"d3\"], function(d3){\n",
       "      window.d3 = d3;\n",
       "      LDAvis_load_lib(\"https://cdn.rawgit.com/bmabey/pyLDAvis/files/ldavis.v1.0.0.js\", function(){\n",
       "        new LDAvis(\"#\" + \"ldavis_el6421123697310484405209668\", ldavis_el6421123697310484405209668_data);\n",
       "      });\n",
       "    });\n",
       "}else{\n",
       "    // require.js not available: dynamically load d3 & LDAvis\n",
       "    LDAvis_load_lib(\"https://cdnjs.cloudflare.com/ajax/libs/d3/3.5.5/d3.min.js\", function(){\n",
       "         LDAvis_load_lib(\"https://cdn.rawgit.com/bmabey/pyLDAvis/files/ldavis.v1.0.0.js\", function(){\n",
       "                 new LDAvis(\"#\" + \"ldavis_el6421123697310484405209668\", ldavis_el6421123697310484405209668_data);\n",
       "            })\n",
       "         });\n",
       "}\n",
       "</script>"
      ],
      "text/plain": [
       "PreparedData(topic_coordinates=                x           y  topics  cluster       Freq\n",
       "topic                                                    \n",
       "1       34.067299 -112.585388       1        1  42.331715\n",
       "2       28.446142  -56.680176       2        1  21.843781\n",
       "3       87.052742 -100.641914       3        1  15.476185\n",
       "0      121.849701  -58.938080       4        1  10.177839\n",
       "4       74.658195  -28.444054       5        1  10.170484, topic_info=     Category       Freq          Term      Total  loglift  logprob\n",
       "term                                                               \n",
       "90    Default   8.000000        rocket   8.000000  30.0000  30.0000\n",
       "329   Default  12.000000        launch  12.000000  29.0000  29.0000\n",
       "82    Default   8.000000        falcon   8.000000  28.0000  28.0000\n",
       "15    Default   7.000000      @spacex:   7.000000  27.0000  27.0000\n",
       "256   Default   4.000000             9   4.000000  26.0000  26.0000\n",
       "580   Default  21.000000         model  21.000000  25.0000  25.0000\n",
       "328   Default   5.000000       landing   5.000000  24.0000  24.0000\n",
       "272   Default   6.000000           ...   6.000000  23.0000  23.0000\n",
       "147   Default  10.000000          good  10.000000  22.0000  22.0000\n",
       "1250  Default   2.000000       station   2.000000  21.0000  21.0000\n",
       "1347  Default   6.000000  @teslamotors   6.000000  20.0000  20.0000\n",
       "1929  Default   1.000000           pad   1.000000  19.0000  19.0000\n",
       "160   Default   5.000000         would   5.000000  18.0000  18.0000\n",
       "6413  Default   2.000000             v   2.000000  17.0000  17.0000\n",
       "153   Default   2.000000           yes   2.000000  16.0000  16.0000\n",
       "881   Default   4.000000         space   4.000000  15.0000  15.0000\n",
       "1423  Default   1.000000          cape   1.000000  14.0000  14.0000\n",
       "4248  Default   1.000000     canaveral   1.000000  13.0000  13.0000\n",
       "1198  Default   3.000000        change   3.000000  12.0000  12.0000\n",
       "1106  Default   3.000000          live   3.000000  11.0000  11.0000\n",
       "269   Default   3.000000         stage   3.000000  10.0000  10.0000\n",
       "170   Default   4.000000       @spacex   4.000000   9.0000   9.0000\n",
       "1937  Default   2.000000         looks   2.000000   8.0000   8.0000\n",
       "240   Default   3.000000          need   3.000000   7.0000   7.0000\n",
       "322   Default   6.000000        dragon   6.000000   6.0000   6.0000\n",
       "10    Default  12.000000          like  12.000000   5.0000   5.0000\n",
       "3114  Default   2.000000         super   2.000000   4.0000   4.0000\n",
       "342   Default   2.000000        coming   2.000000   3.0000   3.0000\n",
       "1122  Default   3.000000         great   3.000000   2.0000   2.0000\n",
       "252   Default   2.000000          high   2.000000   1.0000   1.0000\n",
       "...       ...        ...           ...        ...      ...      ...\n",
       "328    Topic5   1.404586       landing   5.028376   1.0103  -5.4511\n",
       "271    Topic5   0.591582         upper   1.309243   1.4913  -6.3158\n",
       "725    Topic5   0.930384         right   2.833716   1.1719  -5.8630\n",
       "1347   Topic5   1.488065  @teslamotors   6.473250   0.8155  -5.3934\n",
       "1038   Topic5   0.476574        thrust   0.950905   1.5949  -6.5320\n",
       "2271   Topic5   0.604525          fire   1.472838   1.3952  -6.2941\n",
       "272    Topic5   1.189154           ...   6.207995   0.6331  -5.6176\n",
       "147    Topic5   1.563674          good  10.914289   0.3426  -5.3438\n",
       "160    Topic5   1.102155         would   5.510650   0.6763  -5.6936\n",
       "88     Topic5   0.634262         orbit   1.754892   1.2680  -6.2461\n",
       "10     Topic5   1.517351          like  12.936421   0.1426  -5.3739\n",
       "785    Topic5   0.531924     droneship   1.284275   1.4042  -6.4221\n",
       "696    Topic5   0.707304         still   2.586193   0.9892  -6.1371\n",
       "3207   Topic5   0.788715        flight   3.615619   0.7631  -6.0282\n",
       "158    Topic5   0.775626        spacex   3.531858   0.7698  -6.0449\n",
       "1937   Topic5   0.706169         looks   2.839024   0.8943  -6.1387\n",
       "580    Topic5   1.482592         model  21.107267  -0.3701  -5.3970\n",
       "503    Topic5   0.892779          best   5.492943   0.4688  -5.9042\n",
       "1122   Topic5   0.770221         great   3.688297   0.7194  -6.0519\n",
       "144    Topic5   0.658282          yes,   2.428131   0.9804  -6.2090\n",
       "231    Topic5   1.460154         tesla  30.626505  -0.7576  -5.4123\n",
       "82     Topic5   0.912097        falcon   8.025864   0.1110  -5.8828\n",
       "269    Topic5   0.660963         stage   3.018304   0.7669  -6.2049\n",
       "83     Topic5   0.736448         first   6.474322   0.1119  -6.0968\n",
       "27     Topic5   0.693693            :)   6.822539  -0.0003  -6.1566\n",
       "240    Topic5   0.618816          need   3.610288   0.5219  -6.2708\n",
       "252    Topic5   0.595589          high   2.873588   0.7119  -6.3090\n",
       "227    Topic5   0.638865        people   5.056756   0.2169  -6.2389\n",
       "329    Topic5   0.650774        launch  12.359315  -0.6583  -6.2204\n",
       "264    Topic5   0.596094          long   2.999652   0.6698  -6.3082\n",
       "\n",
       "[365 rows x 6 columns], token_table=      Topic      Freq       Term\n",
       "term                            \n",
       "1013      3  0.638126    #dragon\n",
       "7934      2  1.481815       (not\n",
       "272       1  0.483248        ...\n",
       "272       3  0.161083        ...\n",
       "272       4  0.161083        ...\n",
       "272       5  0.161083        ...\n",
       "1         1  0.256204          3\n",
       "1         2  0.256204          3\n",
       "1         3  0.256204          3\n",
       "1352      2  1.405800         3,\n",
       "3684      4  0.819377          6\n",
       "256       3  0.613150          9\n",
       "256       4  0.204383          9\n",
       "27        1  0.586292         :)\n",
       "27        2  0.146573         :)\n",
       "27        4  0.146573         :)\n",
       "27        5  0.146573         :)\n",
       "1394      1  0.308660  @elonmusk\n",
       "1394      2  0.462990  @elonmusk\n",
       "1394      4  0.154330  @elonmusk\n",
       "1394      5  0.154330  @elonmusk\n",
       "6740      1  0.840944    @recode\n",
       "170       1  0.214440    @spacex\n",
       "170       2  0.214440    @spacex\n",
       "170       3  0.214440    @spacex\n",
       "170       4  0.214440    @spacex\n",
       "15        1  0.128228   @spacex:\n",
       "15        2  0.256457   @spacex:\n",
       "15        3  0.512913   @spacex:\n",
       "15        4  0.128228   @spacex:\n",
       "...     ...       ...        ...\n",
       "383       1  0.589796         us\n",
       "383       2  0.196599         us\n",
       "6413      1  0.871056          v\n",
       "6413      4  0.435528          v\n",
       "249       2  0.741978    version\n",
       "784       3  0.728218   vertical\n",
       "697       2  0.370538      video\n",
       "697       3  0.370538      video\n",
       "697       5  0.370538      video\n",
       "341       1  0.962446      visit\n",
       "2975      2  0.497225         vs\n",
       "2975      3  0.497225         vs\n",
       "407       1  0.355728          w\n",
       "407       2  0.177864          w\n",
       "407       3  0.177864          w\n",
       "407       4  0.177864          w\n",
       "1110      2  0.527914      watch\n",
       "1110      3  0.527914      watch\n",
       "1366      2  0.421391       work\n",
       "1366      3  0.421391       work\n",
       "2092      1  1.028024     worked\n",
       "197       1  0.652928    world's\n",
       "160       1  0.362934      would\n",
       "160       2  0.181467      would\n",
       "160       3  0.181467      would\n",
       "160       4  0.181467      would\n",
       "160       5  0.181467      would\n",
       "153       3  0.876913        yes\n",
       "144       2  0.411839       yes,\n",
       "144       5  0.411839       yes,\n",
       "\n",
       "[322 rows x 3 columns], R=30, lambda_step=0.01, plot_opts={'xlab': 'PC1', 'ylab': 'PC2'}, topic_order=[2, 3, 4, 1, 5])"
      ]
     },
     "execution_count": 29,
     "metadata": {},
     "output_type": "execute_result"
    }
   ],
   "source": [
    "import pyLDAvis.gensim\n",
    "\n",
    "pyLDAvis.enable_notebook()\n",
    "panel = pyLDAvis.gensim.prepare(lda, corpus_lda, dictionary, mds='tsne')\n",
    "panel"
   ]
  }
 ],
 "metadata": {
  "anaconda-cloud": {},
  "kernelspec": {
   "display_name": "Python 3",
   "language": "python",
   "name": "python3"
  },
  "language_info": {
   "codemirror_mode": {
    "name": "ipython",
    "version": 3
   },
   "file_extension": ".py",
   "mimetype": "text/x-python",
   "name": "python",
   "nbconvert_exporter": "python",
   "pygments_lexer": "ipython3",
   "version": "3.6.5"
  }
 },
 "nbformat": 4,
 "nbformat_minor": 1
}
